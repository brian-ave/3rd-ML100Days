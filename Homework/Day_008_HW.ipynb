{
 "cells": [
  {
   "cell_type": "markdown",
   "metadata": {},
   "source": [
    "# [作業目標]\n",
    "- 對資料做更多處理 : 顯示特定欄位的統計值與直方圖"
   ]
  },
  {
   "cell_type": "markdown",
   "metadata": {},
   "source": [
    "# [作業重點]\n",
    "- 試著顯示特定欄位的基礎統計數值 (In[4], Out[4], Hint : describe())\n",
    "- 試著顯示特定欄位的直方圖 (In[5], Out[5], Hint : .hist())"
   ]
  },
  {
   "cell_type": "code",
   "execution_count": 1,
   "metadata": {},
   "outputs": [],
   "source": [
    "# Import 需要的套件\n",
    "import os\n",
    "import numpy as np\n",
    "import pandas as pd\n",
    "\n",
    "# 設定 data_path\n",
    "dir_data = '/Users/brian/Desktop/The 3rd Machine Learning Marathon/Day_008'"
   ]
  },
  {
   "cell_type": "code",
   "execution_count": 2,
   "metadata": {},
   "outputs": [],
   "source": [
    "f_app_train = os.path.join(dir_data, 'application_train.csv')\n",
    "app_train = pd.read_csv(f_app_train)"
   ]
  },
  {
   "cell_type": "code",
   "execution_count": 3,
   "metadata": {},
   "outputs": [],
   "source": [
    "import matplotlib.pyplot as plt\n",
    "%matplotlib inline"
   ]
  },
  {
   "cell_type": "markdown",
   "metadata": {},
   "source": [
    "## 練習時間"
   ]
  },
  {
   "cell_type": "markdown",
   "metadata": {},
   "source": [
    "觀察有興趣的欄位的資料分佈，並嘗試找出有趣的訊息\n",
    "#### Eg\n",
    "- 計算任意欄位的平均數及標準差\n",
    "- 畫出任意欄位的[直方圖](https://zh.wikipedia.org/zh-tw/%E7%9B%B4%E6%96%B9%E5%9B%BE)\n",
    "\n",
    "### Hints:\n",
    "- [Descriptive Statistics For pandas Dataframe](https://chrisalbon.com/python/data_wrangling/pandas_dataframe_descriptive_stats/)\n",
    "- [pandas 中的繪圖函數](https://amaozhao.gitbooks.io/pandas-notebook/content/pandas%E4%B8%AD%E7%9A%84%E7%BB%98%E5%9B%BE%E5%87%BD%E6%95%B0.html)\n"
   ]
  },
  {
   "cell_type": "code",
   "execution_count": 4,
   "metadata": {},
   "outputs": [
    {
     "data": {
      "text/html": [
       "<div>\n",
       "<style scoped>\n",
       "    .dataframe tbody tr th:only-of-type {\n",
       "        vertical-align: middle;\n",
       "    }\n",
       "\n",
       "    .dataframe tbody tr th {\n",
       "        vertical-align: top;\n",
       "    }\n",
       "\n",
       "    .dataframe thead th {\n",
       "        text-align: right;\n",
       "    }\n",
       "</style>\n",
       "<table border=\"1\" class=\"dataframe\">\n",
       "  <thead>\n",
       "    <tr style=\"text-align: right;\">\n",
       "      <th></th>\n",
       "      <th>SK_ID_CURR</th>\n",
       "      <th>TARGET</th>\n",
       "      <th>NAME_CONTRACT_TYPE</th>\n",
       "      <th>CODE_GENDER</th>\n",
       "      <th>FLAG_OWN_CAR</th>\n",
       "      <th>FLAG_OWN_REALTY</th>\n",
       "      <th>CNT_CHILDREN</th>\n",
       "      <th>AMT_INCOME_TOTAL</th>\n",
       "      <th>AMT_CREDIT</th>\n",
       "      <th>AMT_ANNUITY</th>\n",
       "      <th>...</th>\n",
       "      <th>FLAG_DOCUMENT_18</th>\n",
       "      <th>FLAG_DOCUMENT_19</th>\n",
       "      <th>FLAG_DOCUMENT_20</th>\n",
       "      <th>FLAG_DOCUMENT_21</th>\n",
       "      <th>AMT_REQ_CREDIT_BUREAU_HOUR</th>\n",
       "      <th>AMT_REQ_CREDIT_BUREAU_DAY</th>\n",
       "      <th>AMT_REQ_CREDIT_BUREAU_WEEK</th>\n",
       "      <th>AMT_REQ_CREDIT_BUREAU_MON</th>\n",
       "      <th>AMT_REQ_CREDIT_BUREAU_QRT</th>\n",
       "      <th>AMT_REQ_CREDIT_BUREAU_YEAR</th>\n",
       "    </tr>\n",
       "  </thead>\n",
       "  <tbody>\n",
       "    <tr>\n",
       "      <th>0</th>\n",
       "      <td>100002</td>\n",
       "      <td>1</td>\n",
       "      <td>Cash loans</td>\n",
       "      <td>M</td>\n",
       "      <td>N</td>\n",
       "      <td>Y</td>\n",
       "      <td>0</td>\n",
       "      <td>202500.0</td>\n",
       "      <td>406597.5</td>\n",
       "      <td>24700.5</td>\n",
       "      <td>...</td>\n",
       "      <td>0</td>\n",
       "      <td>0</td>\n",
       "      <td>0</td>\n",
       "      <td>0</td>\n",
       "      <td>0.0</td>\n",
       "      <td>0.0</td>\n",
       "      <td>0.0</td>\n",
       "      <td>0.0</td>\n",
       "      <td>0.0</td>\n",
       "      <td>1.0</td>\n",
       "    </tr>\n",
       "    <tr>\n",
       "      <th>1</th>\n",
       "      <td>100003</td>\n",
       "      <td>0</td>\n",
       "      <td>Cash loans</td>\n",
       "      <td>F</td>\n",
       "      <td>N</td>\n",
       "      <td>N</td>\n",
       "      <td>0</td>\n",
       "      <td>270000.0</td>\n",
       "      <td>1293502.5</td>\n",
       "      <td>35698.5</td>\n",
       "      <td>...</td>\n",
       "      <td>0</td>\n",
       "      <td>0</td>\n",
       "      <td>0</td>\n",
       "      <td>0</td>\n",
       "      <td>0.0</td>\n",
       "      <td>0.0</td>\n",
       "      <td>0.0</td>\n",
       "      <td>0.0</td>\n",
       "      <td>0.0</td>\n",
       "      <td>0.0</td>\n",
       "    </tr>\n",
       "    <tr>\n",
       "      <th>2</th>\n",
       "      <td>100004</td>\n",
       "      <td>0</td>\n",
       "      <td>Revolving loans</td>\n",
       "      <td>M</td>\n",
       "      <td>Y</td>\n",
       "      <td>Y</td>\n",
       "      <td>0</td>\n",
       "      <td>67500.0</td>\n",
       "      <td>135000.0</td>\n",
       "      <td>6750.0</td>\n",
       "      <td>...</td>\n",
       "      <td>0</td>\n",
       "      <td>0</td>\n",
       "      <td>0</td>\n",
       "      <td>0</td>\n",
       "      <td>0.0</td>\n",
       "      <td>0.0</td>\n",
       "      <td>0.0</td>\n",
       "      <td>0.0</td>\n",
       "      <td>0.0</td>\n",
       "      <td>0.0</td>\n",
       "    </tr>\n",
       "    <tr>\n",
       "      <th>3</th>\n",
       "      <td>100006</td>\n",
       "      <td>0</td>\n",
       "      <td>Cash loans</td>\n",
       "      <td>F</td>\n",
       "      <td>N</td>\n",
       "      <td>Y</td>\n",
       "      <td>0</td>\n",
       "      <td>135000.0</td>\n",
       "      <td>312682.5</td>\n",
       "      <td>29686.5</td>\n",
       "      <td>...</td>\n",
       "      <td>0</td>\n",
       "      <td>0</td>\n",
       "      <td>0</td>\n",
       "      <td>0</td>\n",
       "      <td>NaN</td>\n",
       "      <td>NaN</td>\n",
       "      <td>NaN</td>\n",
       "      <td>NaN</td>\n",
       "      <td>NaN</td>\n",
       "      <td>NaN</td>\n",
       "    </tr>\n",
       "    <tr>\n",
       "      <th>4</th>\n",
       "      <td>100007</td>\n",
       "      <td>0</td>\n",
       "      <td>Cash loans</td>\n",
       "      <td>M</td>\n",
       "      <td>N</td>\n",
       "      <td>Y</td>\n",
       "      <td>0</td>\n",
       "      <td>121500.0</td>\n",
       "      <td>513000.0</td>\n",
       "      <td>21865.5</td>\n",
       "      <td>...</td>\n",
       "      <td>0</td>\n",
       "      <td>0</td>\n",
       "      <td>0</td>\n",
       "      <td>0</td>\n",
       "      <td>0.0</td>\n",
       "      <td>0.0</td>\n",
       "      <td>0.0</td>\n",
       "      <td>0.0</td>\n",
       "      <td>0.0</td>\n",
       "      <td>0.0</td>\n",
       "    </tr>\n",
       "  </tbody>\n",
       "</table>\n",
       "<p>5 rows × 122 columns</p>\n",
       "</div>"
      ],
      "text/plain": [
       "   SK_ID_CURR  TARGET NAME_CONTRACT_TYPE CODE_GENDER FLAG_OWN_CAR  \\\n",
       "0      100002       1         Cash loans           M            N   \n",
       "1      100003       0         Cash loans           F            N   \n",
       "2      100004       0    Revolving loans           M            Y   \n",
       "3      100006       0         Cash loans           F            N   \n",
       "4      100007       0         Cash loans           M            N   \n",
       "\n",
       "  FLAG_OWN_REALTY  CNT_CHILDREN  AMT_INCOME_TOTAL  AMT_CREDIT  AMT_ANNUITY  \\\n",
       "0               Y             0          202500.0    406597.5      24700.5   \n",
       "1               N             0          270000.0   1293502.5      35698.5   \n",
       "2               Y             0           67500.0    135000.0       6750.0   \n",
       "3               Y             0          135000.0    312682.5      29686.5   \n",
       "4               Y             0          121500.0    513000.0      21865.5   \n",
       "\n",
       "   ...  FLAG_DOCUMENT_18 FLAG_DOCUMENT_19 FLAG_DOCUMENT_20 FLAG_DOCUMENT_21  \\\n",
       "0  ...                 0                0                0                0   \n",
       "1  ...                 0                0                0                0   \n",
       "2  ...                 0                0                0                0   \n",
       "3  ...                 0                0                0                0   \n",
       "4  ...                 0                0                0                0   \n",
       "\n",
       "  AMT_REQ_CREDIT_BUREAU_HOUR AMT_REQ_CREDIT_BUREAU_DAY  \\\n",
       "0                        0.0                       0.0   \n",
       "1                        0.0                       0.0   \n",
       "2                        0.0                       0.0   \n",
       "3                        NaN                       NaN   \n",
       "4                        0.0                       0.0   \n",
       "\n",
       "   AMT_REQ_CREDIT_BUREAU_WEEK  AMT_REQ_CREDIT_BUREAU_MON  \\\n",
       "0                         0.0                        0.0   \n",
       "1                         0.0                        0.0   \n",
       "2                         0.0                        0.0   \n",
       "3                         NaN                        NaN   \n",
       "4                         0.0                        0.0   \n",
       "\n",
       "   AMT_REQ_CREDIT_BUREAU_QRT  AMT_REQ_CREDIT_BUREAU_YEAR  \n",
       "0                        0.0                         1.0  \n",
       "1                        0.0                         0.0  \n",
       "2                        0.0                         0.0  \n",
       "3                        NaN                         NaN  \n",
       "4                        0.0                         0.0  \n",
       "\n",
       "[5 rows x 122 columns]"
      ]
     },
     "execution_count": 4,
     "metadata": {},
     "output_type": "execute_result"
    }
   ],
   "source": [
    "app_train.head(5)"
   ]
  },
  {
   "cell_type": "code",
   "execution_count": 5,
   "metadata": {},
   "outputs": [
    {
     "data": {
      "text/plain": [
       "float64    65\n",
       "int64      41\n",
       "object     16\n",
       "dtype: int64"
      ]
     },
     "execution_count": 5,
     "metadata": {},
     "output_type": "execute_result"
    }
   ],
   "source": [
    "app_train.dtypes.value_counts()"
   ]
  },
  {
   "cell_type": "code",
   "execution_count": 6,
   "metadata": {},
   "outputs": [
    {
     "data": {
      "text/plain": [
       "(307511, 122)"
      ]
     },
     "execution_count": 6,
     "metadata": {},
     "output_type": "execute_result"
    }
   ],
   "source": [
    "app_train.shape"
   ]
  },
  {
   "cell_type": "code",
   "execution_count": 48,
   "metadata": {},
   "outputs": [
    {
     "data": {
      "text/html": [
       "<div>\n",
       "<style scoped>\n",
       "    .dataframe tbody tr th:only-of-type {\n",
       "        vertical-align: middle;\n",
       "    }\n",
       "\n",
       "    .dataframe tbody tr th {\n",
       "        vertical-align: top;\n",
       "    }\n",
       "\n",
       "    .dataframe thead th {\n",
       "        text-align: right;\n",
       "    }\n",
       "</style>\n",
       "<table border=\"1\" class=\"dataframe\">\n",
       "  <thead>\n",
       "    <tr style=\"text-align: right;\">\n",
       "      <th></th>\n",
       "      <th>AMT_INCOME_TOTAL</th>\n",
       "      <th>NAME_INCOME_TYPE</th>\n",
       "      <th>CODE_GENDER</th>\n",
       "      <th>AMT_CREDIT</th>\n",
       "      <th>AMT_ANNUITY</th>\n",
       "    </tr>\n",
       "  </thead>\n",
       "  <tbody>\n",
       "    <tr>\n",
       "      <th>0</th>\n",
       "      <td>202500.0</td>\n",
       "      <td>Working</td>\n",
       "      <td>M</td>\n",
       "      <td>406597.5</td>\n",
       "      <td>24700.5</td>\n",
       "    </tr>\n",
       "    <tr>\n",
       "      <th>1</th>\n",
       "      <td>270000.0</td>\n",
       "      <td>State servant</td>\n",
       "      <td>F</td>\n",
       "      <td>1293502.5</td>\n",
       "      <td>35698.5</td>\n",
       "    </tr>\n",
       "    <tr>\n",
       "      <th>2</th>\n",
       "      <td>67500.0</td>\n",
       "      <td>Working</td>\n",
       "      <td>M</td>\n",
       "      <td>135000.0</td>\n",
       "      <td>6750.0</td>\n",
       "    </tr>\n",
       "    <tr>\n",
       "      <th>3</th>\n",
       "      <td>135000.0</td>\n",
       "      <td>Working</td>\n",
       "      <td>F</td>\n",
       "      <td>312682.5</td>\n",
       "      <td>29686.5</td>\n",
       "    </tr>\n",
       "    <tr>\n",
       "      <th>4</th>\n",
       "      <td>121500.0</td>\n",
       "      <td>Working</td>\n",
       "      <td>M</td>\n",
       "      <td>513000.0</td>\n",
       "      <td>21865.5</td>\n",
       "    </tr>\n",
       "  </tbody>\n",
       "</table>\n",
       "</div>"
      ],
      "text/plain": [
       "   AMT_INCOME_TOTAL NAME_INCOME_TYPE CODE_GENDER  AMT_CREDIT  AMT_ANNUITY\n",
       "0          202500.0          Working           M    406597.5      24700.5\n",
       "1          270000.0    State servant           F   1293502.5      35698.5\n",
       "2           67500.0          Working           M    135000.0       6750.0\n",
       "3          135000.0          Working           F    312682.5      29686.5\n",
       "4          121500.0          Working           M    513000.0      21865.5"
      ]
     },
     "execution_count": 48,
     "metadata": {},
     "output_type": "execute_result"
    }
   ],
   "source": [
    "observe_data = app_train[['AMT_INCOME_TOTAL','NAME_INCOME_TYPE','CODE_GENDER','AMT_CREDIT','AMT_ANNUITY']]\n",
    "observe_data.head(5)"
   ]
  },
  {
   "cell_type": "code",
   "execution_count": 49,
   "metadata": {},
   "outputs": [
    {
     "data": {
      "text/html": [
       "<div>\n",
       "<style scoped>\n",
       "    .dataframe tbody tr th:only-of-type {\n",
       "        vertical-align: middle;\n",
       "    }\n",
       "\n",
       "    .dataframe tbody tr th {\n",
       "        vertical-align: top;\n",
       "    }\n",
       "\n",
       "    .dataframe thead th {\n",
       "        text-align: right;\n",
       "    }\n",
       "</style>\n",
       "<table border=\"1\" class=\"dataframe\">\n",
       "  <thead>\n",
       "    <tr style=\"text-align: right;\">\n",
       "      <th></th>\n",
       "      <th>AMT_INCOME_TOTAL</th>\n",
       "      <th>AMT_CREDIT</th>\n",
       "      <th>AMT_ANNUITY</th>\n",
       "    </tr>\n",
       "    <tr>\n",
       "      <th>NAME_INCOME_TYPE</th>\n",
       "      <th></th>\n",
       "      <th></th>\n",
       "      <th></th>\n",
       "    </tr>\n",
       "  </thead>\n",
       "  <tbody>\n",
       "    <tr>\n",
       "      <th>Businessman</th>\n",
       "      <td>652500.000000</td>\n",
       "      <td>1.228500e+06</td>\n",
       "      <td>72675.000000</td>\n",
       "    </tr>\n",
       "    <tr>\n",
       "      <th>Commercial associate</th>\n",
       "      <td>202955.327289</td>\n",
       "      <td>6.699131e+05</td>\n",
       "      <td>30415.221067</td>\n",
       "    </tr>\n",
       "    <tr>\n",
       "      <th>Maternity leave</th>\n",
       "      <td>140400.000000</td>\n",
       "      <td>7.497000e+05</td>\n",
       "      <td>36986.400000</td>\n",
       "    </tr>\n",
       "    <tr>\n",
       "      <th>Pensioner</th>\n",
       "      <td>136401.292273</td>\n",
       "      <td>5.425461e+05</td>\n",
       "      <td>23900.400293</td>\n",
       "    </tr>\n",
       "    <tr>\n",
       "      <th>State servant</th>\n",
       "      <td>179737.969506</td>\n",
       "      <td>6.698193e+05</td>\n",
       "      <td>28864.490392</td>\n",
       "    </tr>\n",
       "    <tr>\n",
       "      <th>Student</th>\n",
       "      <td>170500.000000</td>\n",
       "      <td>5.107875e+05</td>\n",
       "      <td>25188.000000</td>\n",
       "    </tr>\n",
       "    <tr>\n",
       "      <th>Unemployed</th>\n",
       "      <td>110536.363636</td>\n",
       "      <td>7.643864e+05</td>\n",
       "      <td>28178.386364</td>\n",
       "    </tr>\n",
       "    <tr>\n",
       "      <th>Working</th>\n",
       "      <td>163169.889223</td>\n",
       "      <td>5.770110e+05</td>\n",
       "      <td>26492.651756</td>\n",
       "    </tr>\n",
       "  </tbody>\n",
       "</table>\n",
       "</div>"
      ],
      "text/plain": [
       "                      AMT_INCOME_TOTAL    AMT_CREDIT   AMT_ANNUITY\n",
       "NAME_INCOME_TYPE                                                  \n",
       "Businessman              652500.000000  1.228500e+06  72675.000000\n",
       "Commercial associate     202955.327289  6.699131e+05  30415.221067\n",
       "Maternity leave          140400.000000  7.497000e+05  36986.400000\n",
       "Pensioner                136401.292273  5.425461e+05  23900.400293\n",
       "State servant            179737.969506  6.698193e+05  28864.490392\n",
       "Student                  170500.000000  5.107875e+05  25188.000000\n",
       "Unemployed               110536.363636  7.643864e+05  28178.386364\n",
       "Working                  163169.889223  5.770110e+05  26492.651756"
      ]
     },
     "execution_count": 49,
     "metadata": {},
     "output_type": "execute_result"
    }
   ],
   "source": [
    "observe_data.groupby(observe_data['NAME_INCOME_TYPE']).mean()"
   ]
  },
  {
   "cell_type": "code",
   "execution_count": 50,
   "metadata": {},
   "outputs": [
    {
     "data": {
      "text/html": [
       "<div>\n",
       "<style scoped>\n",
       "    .dataframe tbody tr th:only-of-type {\n",
       "        vertical-align: middle;\n",
       "    }\n",
       "\n",
       "    .dataframe tbody tr th {\n",
       "        vertical-align: top;\n",
       "    }\n",
       "\n",
       "    .dataframe thead tr th {\n",
       "        text-align: left;\n",
       "    }\n",
       "\n",
       "    .dataframe thead tr:last-of-type th {\n",
       "        text-align: right;\n",
       "    }\n",
       "</style>\n",
       "<table border=\"1\" class=\"dataframe\">\n",
       "  <thead>\n",
       "    <tr>\n",
       "      <th></th>\n",
       "      <th colspan=\"8\" halign=\"left\">AMT_INCOME_TOTAL</th>\n",
       "      <th colspan=\"5\" halign=\"left\">AMT_CREDIT</th>\n",
       "      <th colspan=\"8\" halign=\"left\">AMT_ANNUITY</th>\n",
       "    </tr>\n",
       "    <tr>\n",
       "      <th></th>\n",
       "      <th>count</th>\n",
       "      <th>mean</th>\n",
       "      <th>std</th>\n",
       "      <th>min</th>\n",
       "      <th>25%</th>\n",
       "      <th>50%</th>\n",
       "      <th>75%</th>\n",
       "      <th>max</th>\n",
       "      <th>count</th>\n",
       "      <th>mean</th>\n",
       "      <th>...</th>\n",
       "      <th>75%</th>\n",
       "      <th>max</th>\n",
       "      <th>count</th>\n",
       "      <th>mean</th>\n",
       "      <th>std</th>\n",
       "      <th>min</th>\n",
       "      <th>25%</th>\n",
       "      <th>50%</th>\n",
       "      <th>75%</th>\n",
       "      <th>max</th>\n",
       "    </tr>\n",
       "    <tr>\n",
       "      <th>NAME_INCOME_TYPE</th>\n",
       "      <th></th>\n",
       "      <th></th>\n",
       "      <th></th>\n",
       "      <th></th>\n",
       "      <th></th>\n",
       "      <th></th>\n",
       "      <th></th>\n",
       "      <th></th>\n",
       "      <th></th>\n",
       "      <th></th>\n",
       "      <th></th>\n",
       "      <th></th>\n",
       "      <th></th>\n",
       "      <th></th>\n",
       "      <th></th>\n",
       "      <th></th>\n",
       "      <th></th>\n",
       "      <th></th>\n",
       "      <th></th>\n",
       "      <th></th>\n",
       "      <th></th>\n",
       "    </tr>\n",
       "  </thead>\n",
       "  <tbody>\n",
       "    <tr>\n",
       "      <th>Businessman</th>\n",
       "      <td>10.0</td>\n",
       "      <td>652500.000000</td>\n",
       "      <td>627226.035812</td>\n",
       "      <td>180000.0</td>\n",
       "      <td>225000.0</td>\n",
       "      <td>495000.0</td>\n",
       "      <td>843750.0</td>\n",
       "      <td>2250000.0</td>\n",
       "      <td>10.0</td>\n",
       "      <td>1.228500e+06</td>\n",
       "      <td>...</td>\n",
       "      <td>2025000.0</td>\n",
       "      <td>2250000.0</td>\n",
       "      <td>10.0</td>\n",
       "      <td>72675.000000</td>\n",
       "      <td>64001.416000</td>\n",
       "      <td>11250.0</td>\n",
       "      <td>28687.5</td>\n",
       "      <td>56250.00</td>\n",
       "      <td>101250.000</td>\n",
       "      <td>225000.0</td>\n",
       "    </tr>\n",
       "    <tr>\n",
       "      <th>Commercial associate</th>\n",
       "      <td>71617.0</td>\n",
       "      <td>202955.327289</td>\n",
       "      <td>147974.151536</td>\n",
       "      <td>26550.0</td>\n",
       "      <td>135000.0</td>\n",
       "      <td>180000.0</td>\n",
       "      <td>225000.0</td>\n",
       "      <td>18000090.0</td>\n",
       "      <td>71617.0</td>\n",
       "      <td>6.699131e+05</td>\n",
       "      <td>...</td>\n",
       "      <td>900000.0</td>\n",
       "      <td>4050000.0</td>\n",
       "      <td>71614.0</td>\n",
       "      <td>30415.221067</td>\n",
       "      <td>16242.685658</td>\n",
       "      <td>2052.0</td>\n",
       "      <td>19120.5</td>\n",
       "      <td>27780.75</td>\n",
       "      <td>38511.000</td>\n",
       "      <td>258025.5</td>\n",
       "    </tr>\n",
       "    <tr>\n",
       "      <th>Maternity leave</th>\n",
       "      <td>5.0</td>\n",
       "      <td>140400.000000</td>\n",
       "      <td>126856.907577</td>\n",
       "      <td>49500.0</td>\n",
       "      <td>67500.0</td>\n",
       "      <td>90000.0</td>\n",
       "      <td>135000.0</td>\n",
       "      <td>360000.0</td>\n",
       "      <td>5.0</td>\n",
       "      <td>7.497000e+05</td>\n",
       "      <td>...</td>\n",
       "      <td>810000.0</td>\n",
       "      <td>1435500.0</td>\n",
       "      <td>5.0</td>\n",
       "      <td>36986.400000</td>\n",
       "      <td>25982.927987</td>\n",
       "      <td>11286.0</td>\n",
       "      <td>15750.0</td>\n",
       "      <td>40500.00</td>\n",
       "      <td>40896.000</td>\n",
       "      <td>76500.0</td>\n",
       "    </tr>\n",
       "    <tr>\n",
       "      <th>Pensioner</th>\n",
       "      <td>55362.0</td>\n",
       "      <td>136401.292273</td>\n",
       "      <td>76650.331247</td>\n",
       "      <td>25650.0</td>\n",
       "      <td>90000.0</td>\n",
       "      <td>117000.0</td>\n",
       "      <td>166500.0</td>\n",
       "      <td>2250000.0</td>\n",
       "      <td>55362.0</td>\n",
       "      <td>5.425461e+05</td>\n",
       "      <td>...</td>\n",
       "      <td>755190.0</td>\n",
       "      <td>3312162.0</td>\n",
       "      <td>55362.0</td>\n",
       "      <td>23900.400293</td>\n",
       "      <td>13308.229053</td>\n",
       "      <td>1615.5</td>\n",
       "      <td>14503.5</td>\n",
       "      <td>21775.50</td>\n",
       "      <td>29938.500</td>\n",
       "      <td>225000.0</td>\n",
       "    </tr>\n",
       "    <tr>\n",
       "      <th>State servant</th>\n",
       "      <td>21703.0</td>\n",
       "      <td>179737.969506</td>\n",
       "      <td>100880.579748</td>\n",
       "      <td>27000.0</td>\n",
       "      <td>112500.0</td>\n",
       "      <td>157500.0</td>\n",
       "      <td>225000.0</td>\n",
       "      <td>3150000.0</td>\n",
       "      <td>21703.0</td>\n",
       "      <td>6.698193e+05</td>\n",
       "      <td>...</td>\n",
       "      <td>900000.0</td>\n",
       "      <td>3600000.0</td>\n",
       "      <td>21700.0</td>\n",
       "      <td>28864.490392</td>\n",
       "      <td>15122.270873</td>\n",
       "      <td>2673.0</td>\n",
       "      <td>17775.0</td>\n",
       "      <td>26446.50</td>\n",
       "      <td>36864.000</td>\n",
       "      <td>225000.0</td>\n",
       "    </tr>\n",
       "    <tr>\n",
       "      <th>Student</th>\n",
       "      <td>18.0</td>\n",
       "      <td>170500.000000</td>\n",
       "      <td>106644.682171</td>\n",
       "      <td>81000.0</td>\n",
       "      <td>112500.0</td>\n",
       "      <td>157500.0</td>\n",
       "      <td>178875.0</td>\n",
       "      <td>562500.0</td>\n",
       "      <td>18.0</td>\n",
       "      <td>5.107875e+05</td>\n",
       "      <td>...</td>\n",
       "      <td>637038.0</td>\n",
       "      <td>1381113.0</td>\n",
       "      <td>18.0</td>\n",
       "      <td>25188.000000</td>\n",
       "      <td>12094.633654</td>\n",
       "      <td>9000.0</td>\n",
       "      <td>19777.5</td>\n",
       "      <td>24828.75</td>\n",
       "      <td>30190.500</td>\n",
       "      <td>60691.5</td>\n",
       "    </tr>\n",
       "    <tr>\n",
       "      <th>Unemployed</th>\n",
       "      <td>22.0</td>\n",
       "      <td>110536.363636</td>\n",
       "      <td>88055.079059</td>\n",
       "      <td>26550.0</td>\n",
       "      <td>54000.0</td>\n",
       "      <td>78750.0</td>\n",
       "      <td>135000.0</td>\n",
       "      <td>337500.0</td>\n",
       "      <td>22.0</td>\n",
       "      <td>7.643864e+05</td>\n",
       "      <td>...</td>\n",
       "      <td>896625.0</td>\n",
       "      <td>1804500.0</td>\n",
       "      <td>22.0</td>\n",
       "      <td>28178.386364</td>\n",
       "      <td>13277.604609</td>\n",
       "      <td>6750.0</td>\n",
       "      <td>20952.0</td>\n",
       "      <td>25240.50</td>\n",
       "      <td>38129.625</td>\n",
       "      <td>54954.0</td>\n",
       "    </tr>\n",
       "    <tr>\n",
       "      <th>Working</th>\n",
       "      <td>158774.0</td>\n",
       "      <td>163169.889223</td>\n",
       "      <td>307577.685942</td>\n",
       "      <td>25650.0</td>\n",
       "      <td>112500.0</td>\n",
       "      <td>135000.0</td>\n",
       "      <td>202500.0</td>\n",
       "      <td>117000000.0</td>\n",
       "      <td>158774.0</td>\n",
       "      <td>5.770110e+05</td>\n",
       "      <td>...</td>\n",
       "      <td>792346.5</td>\n",
       "      <td>4031032.5</td>\n",
       "      <td>158768.0</td>\n",
       "      <td>26492.651756</td>\n",
       "      <td>13605.232726</td>\n",
       "      <td>1980.0</td>\n",
       "      <td>16452.0</td>\n",
       "      <td>24705.00</td>\n",
       "      <td>33615.000</td>\n",
       "      <td>225000.0</td>\n",
       "    </tr>\n",
       "  </tbody>\n",
       "</table>\n",
       "<p>8 rows × 24 columns</p>\n",
       "</div>"
      ],
      "text/plain": [
       "                     AMT_INCOME_TOTAL                                          \\\n",
       "                                count           mean            std       min   \n",
       "NAME_INCOME_TYPE                                                                \n",
       "Businessman                      10.0  652500.000000  627226.035812  180000.0   \n",
       "Commercial associate          71617.0  202955.327289  147974.151536   26550.0   \n",
       "Maternity leave                   5.0  140400.000000  126856.907577   49500.0   \n",
       "Pensioner                     55362.0  136401.292273   76650.331247   25650.0   \n",
       "State servant                 21703.0  179737.969506  100880.579748   27000.0   \n",
       "Student                          18.0  170500.000000  106644.682171   81000.0   \n",
       "Unemployed                       22.0  110536.363636   88055.079059   26550.0   \n",
       "Working                      158774.0  163169.889223  307577.685942   25650.0   \n",
       "\n",
       "                                                                AMT_CREDIT  \\\n",
       "                           25%       50%       75%          max      count   \n",
       "NAME_INCOME_TYPE                                                             \n",
       "Businessman           225000.0  495000.0  843750.0    2250000.0       10.0   \n",
       "Commercial associate  135000.0  180000.0  225000.0   18000090.0    71617.0   \n",
       "Maternity leave        67500.0   90000.0  135000.0     360000.0        5.0   \n",
       "Pensioner              90000.0  117000.0  166500.0    2250000.0    55362.0   \n",
       "State servant         112500.0  157500.0  225000.0    3150000.0    21703.0   \n",
       "Student               112500.0  157500.0  178875.0     562500.0       18.0   \n",
       "Unemployed             54000.0   78750.0  135000.0     337500.0       22.0   \n",
       "Working               112500.0  135000.0  202500.0  117000000.0   158774.0   \n",
       "\n",
       "                                    ...                       AMT_ANNUITY  \\\n",
       "                              mean  ...        75%        max       count   \n",
       "NAME_INCOME_TYPE                    ...                                     \n",
       "Businessman           1.228500e+06  ...  2025000.0  2250000.0        10.0   \n",
       "Commercial associate  6.699131e+05  ...   900000.0  4050000.0     71614.0   \n",
       "Maternity leave       7.497000e+05  ...   810000.0  1435500.0         5.0   \n",
       "Pensioner             5.425461e+05  ...   755190.0  3312162.0     55362.0   \n",
       "State servant         6.698193e+05  ...   900000.0  3600000.0     21700.0   \n",
       "Student               5.107875e+05  ...   637038.0  1381113.0        18.0   \n",
       "Unemployed            7.643864e+05  ...   896625.0  1804500.0        22.0   \n",
       "Working               5.770110e+05  ...   792346.5  4031032.5    158768.0   \n",
       "\n",
       "                                                                              \\\n",
       "                              mean           std      min      25%       50%   \n",
       "NAME_INCOME_TYPE                                                               \n",
       "Businessman           72675.000000  64001.416000  11250.0  28687.5  56250.00   \n",
       "Commercial associate  30415.221067  16242.685658   2052.0  19120.5  27780.75   \n",
       "Maternity leave       36986.400000  25982.927987  11286.0  15750.0  40500.00   \n",
       "Pensioner             23900.400293  13308.229053   1615.5  14503.5  21775.50   \n",
       "State servant         28864.490392  15122.270873   2673.0  17775.0  26446.50   \n",
       "Student               25188.000000  12094.633654   9000.0  19777.5  24828.75   \n",
       "Unemployed            28178.386364  13277.604609   6750.0  20952.0  25240.50   \n",
       "Working               26492.651756  13605.232726   1980.0  16452.0  24705.00   \n",
       "\n",
       "                                            \n",
       "                             75%       max  \n",
       "NAME_INCOME_TYPE                            \n",
       "Businessman           101250.000  225000.0  \n",
       "Commercial associate   38511.000  258025.5  \n",
       "Maternity leave        40896.000   76500.0  \n",
       "Pensioner              29938.500  225000.0  \n",
       "State servant          36864.000  225000.0  \n",
       "Student                30190.500   60691.5  \n",
       "Unemployed             38129.625   54954.0  \n",
       "Working                33615.000  225000.0  \n",
       "\n",
       "[8 rows x 24 columns]"
      ]
     },
     "execution_count": 50,
     "metadata": {},
     "output_type": "execute_result"
    }
   ],
   "source": [
    "observe_data.groupby(observe_data['NAME_INCOME_TYPE']).describe()"
   ]
  },
  {
   "cell_type": "code",
   "execution_count": 51,
   "metadata": {},
   "outputs": [
    {
     "data": {
      "text/html": [
       "<div>\n",
       "<style scoped>\n",
       "    .dataframe tbody tr th:only-of-type {\n",
       "        vertical-align: middle;\n",
       "    }\n",
       "\n",
       "    .dataframe tbody tr th {\n",
       "        vertical-align: top;\n",
       "    }\n",
       "\n",
       "    .dataframe thead th {\n",
       "        text-align: right;\n",
       "    }\n",
       "</style>\n",
       "<table border=\"1\" class=\"dataframe\">\n",
       "  <thead>\n",
       "    <tr style=\"text-align: right;\">\n",
       "      <th></th>\n",
       "      <th>AMT_INCOME_TOTAL</th>\n",
       "      <th>AMT_CREDIT</th>\n",
       "      <th>AMT_ANNUITY</th>\n",
       "    </tr>\n",
       "  </thead>\n",
       "  <tbody>\n",
       "    <tr>\n",
       "      <th>AMT_INCOME_TOTAL</th>\n",
       "      <td>1.000000</td>\n",
       "      <td>0.156870</td>\n",
       "      <td>0.191657</td>\n",
       "    </tr>\n",
       "    <tr>\n",
       "      <th>AMT_CREDIT</th>\n",
       "      <td>0.156870</td>\n",
       "      <td>1.000000</td>\n",
       "      <td>0.770138</td>\n",
       "    </tr>\n",
       "    <tr>\n",
       "      <th>AMT_ANNUITY</th>\n",
       "      <td>0.191657</td>\n",
       "      <td>0.770138</td>\n",
       "      <td>1.000000</td>\n",
       "    </tr>\n",
       "  </tbody>\n",
       "</table>\n",
       "</div>"
      ],
      "text/plain": [
       "                  AMT_INCOME_TOTAL  AMT_CREDIT  AMT_ANNUITY\n",
       "AMT_INCOME_TOTAL          1.000000    0.156870     0.191657\n",
       "AMT_CREDIT                0.156870    1.000000     0.770138\n",
       "AMT_ANNUITY               0.191657    0.770138     1.000000"
      ]
     },
     "execution_count": 51,
     "metadata": {},
     "output_type": "execute_result"
    }
   ],
   "source": [
    "observe_data.corr()"
   ]
  },
  {
   "cell_type": "code",
   "execution_count": 52,
   "metadata": {},
   "outputs": [
    {
     "data": {
      "text/html": [
       "<div>\n",
       "<style scoped>\n",
       "    .dataframe tbody tr th:only-of-type {\n",
       "        vertical-align: middle;\n",
       "    }\n",
       "\n",
       "    .dataframe tbody tr th {\n",
       "        vertical-align: top;\n",
       "    }\n",
       "\n",
       "    .dataframe thead th {\n",
       "        text-align: right;\n",
       "    }\n",
       "</style>\n",
       "<table border=\"1\" class=\"dataframe\">\n",
       "  <thead>\n",
       "    <tr style=\"text-align: right;\">\n",
       "      <th></th>\n",
       "      <th>AMT_INCOME_TOTAL</th>\n",
       "      <th>AMT_CREDIT</th>\n",
       "      <th>AMT_ANNUITY</th>\n",
       "    </tr>\n",
       "  </thead>\n",
       "  <tbody>\n",
       "    <tr>\n",
       "      <th>AMT_INCOME_TOTAL</th>\n",
       "      <td>5.622739e+10</td>\n",
       "      <td>1.497168e+10</td>\n",
       "      <td>6.587001e+08</td>\n",
       "    </tr>\n",
       "    <tr>\n",
       "      <th>AMT_CREDIT</th>\n",
       "      <td>1.497168e+10</td>\n",
       "      <td>1.619988e+11</td>\n",
       "      <td>4.492695e+09</td>\n",
       "    </tr>\n",
       "    <tr>\n",
       "      <th>AMT_ANNUITY</th>\n",
       "      <td>6.587001e+08</td>\n",
       "      <td>4.492695e+09</td>\n",
       "      <td>2.100684e+08</td>\n",
       "    </tr>\n",
       "  </tbody>\n",
       "</table>\n",
       "</div>"
      ],
      "text/plain": [
       "                  AMT_INCOME_TOTAL    AMT_CREDIT   AMT_ANNUITY\n",
       "AMT_INCOME_TOTAL      5.622739e+10  1.497168e+10  6.587001e+08\n",
       "AMT_CREDIT            1.497168e+10  1.619988e+11  4.492695e+09\n",
       "AMT_ANNUITY           6.587001e+08  4.492695e+09  2.100684e+08"
      ]
     },
     "execution_count": 52,
     "metadata": {},
     "output_type": "execute_result"
    }
   ],
   "source": [
    "observe_data.cov()"
   ]
  },
  {
   "cell_type": "code",
   "execution_count": 53,
   "metadata": {},
   "outputs": [
    {
     "data": {
      "image/png": "[encoded data removed]",
      "text/plain": [
       "<Figure size 432x288 with 1 Axes>"
      ]
     },
     "metadata": {
      "needs_background": "light"
     },
     "output_type": "display_data"
    }
   ],
   "source": [
    "app_train.groupby('NAME_INCOME_TYPE')['AMT_INCOME_TOTAL'].sum().plot(kind='bar')\n",
    "plt.show()"
   ]
  },
  {
   "cell_type": "code",
   "execution_count": 54,
   "metadata": {},
   "outputs": [
    {
     "data": {
      "image/png": "[encoded data removed]",
      "text/plain": [
       "<Figure size 432x288 with 1 Axes>"
      ]
     },
     "metadata": {
      "needs_background": "light"
     },
     "output_type": "display_data"
    }
   ],
   "source": [
    "app_train.groupby('NAME_INCOME_TYPE')['AMT_INCOME_TOTAL'].mean().plot(kind='bar')\n",
    "plt.show()"
   ]
  },
  {
   "cell_type": "code",
   "execution_count": 14,
   "metadata": {},
   "outputs": [
    {
     "data": {
      "image/png": "[encoded data removed]",
      "text/plain": [
       "<Figure size 432x288 with 1 Axes>"
      ]
     },
     "metadata": {
      "needs_background": "light"
     },
     "output_type": "display_data"
    }
   ],
   "source": [
    "app_train.groupby('CODE_GENDER')['AMT_INCOME_TOTAL'].sum().plot(kind='bar')\n",
    "plt.show()"
   ]
  },
  {
   "cell_type": "code",
   "execution_count": 15,
   "metadata": {},
   "outputs": [
    {
     "data": {
      "image/png": "[encoded data removed]",
      "text/plain": [
       "<Figure size 432x288 with 1 Axes>"
      ]
     },
     "metadata": {
      "needs_background": "light"
     },
     "output_type": "display_data"
    }
   ],
   "source": [
    "app_train.groupby('CODE_GENDER')['AMT_INCOME_TOTAL'].mean().plot(kind='bar')\n",
    "plt.show()"
   ]
  },
  {
   "cell_type": "code",
   "execution_count": 17,
   "metadata": {},
   "outputs": [
    {
     "data": {
      "image/png": "[encoded data removed]",
      "text/plain": [
       "<Figure size 432x288 with 1 Axes>"
      ]
     },
     "metadata": {
      "needs_background": "light"
     },
     "output_type": "display_data"
    }
   ],
   "source": [
    "app_train.plot(kind='scatter', x='AMT_INCOME_TOTAL', y='AMT_ANNUITY')\n",
    "plt.show()"
   ]
  },
  {
   "cell_type": "code",
   "execution_count": 24,
   "metadata": {},
   "outputs": [
    {
     "data": {
      "image/png": "[encoded data removed]",
      "text/plain": [
       "<Figure size 576x288 with 1 Axes>"
      ]
     },
     "metadata": {
      "needs_background": "light"
     },
     "output_type": "display_data"
    }
   ],
   "source": [
    "app_train.plot(kind='scatter', x='AMT_CREDIT', y='AMT_ANNUITY',figsize=(8,4))\n",
    "plt.show()"
   ]
  },
  {
   "cell_type": "code",
   "execution_count": 26,
   "metadata": {},
   "outputs": [
    {
     "data": {
      "image/png": "[encoded data removed]",
      "text/plain": [
       "<Figure size 432x288 with 1 Axes>"
      ]
     },
     "metadata": {
      "needs_background": "light"
     },
     "output_type": "display_data"
    }
   ],
   "source": [
    "app_train.groupby(['NAME_INCOME_TYPE', 'CODE_GENDER'])['AMT_INCOME_TOTAL'].mean().unstack().plot(kind='bar', stacked=True)\n",
    "plt.show()"
   ]
  },
  {
   "cell_type": "code",
   "execution_count": 32,
   "metadata": {},
   "outputs": [
    {
     "data": {
      "image/png": "[encoded data removed]",
      "text/plain": [
       "<Figure size 1152x288 with 1 Axes>"
      ]
     },
     "metadata": {
      "needs_background": "light"
     },
     "output_type": "display_data"
    }
   ],
   "source": [
    "app_train.groupby('NAME_INCOME_TYPE')['AMT_INCOME_TOTAL'].mean().plot(kind='line', color='blue' ,figsize=(16,4), label='mean of AMT_INCOME_TOTAL')\n",
    "app_train.groupby('NAME_INCOME_TYPE')['AMT_CREDIT'].mean().plot(kind='line',color='red', figsize=(16,4), label='mean of AMT_CREDIT')\n",
    "app_train.groupby('NAME_INCOME_TYPE')['AMT_ANNUITY'].mean().plot(kind='line',color='green', figsize=(16,4), label='mean of AMT_ANNUITY')\n",
    "plt.legend(title='ITEM')\n",
    "plt.show()"
   ]
  },
  {
   "cell_type": "code",
   "execution_count": 47,
   "metadata": {},
   "outputs": [
    {
     "data": {
      "image/png": "[encoded data removed]",
      "text/plain": [
       "<Figure size 1152x288 with 1 Axes>"
      ]
     },
     "metadata": {
      "needs_background": "light"
     },
     "output_type": "display_data"
    }
   ],
   "source": [
    "app_train.groupby(['NAME_INCOME_TYPE', 'CODE_GENDER'])['AMT_INCOME_TOTAL'].mean().unstack().plot(kind='bar', width=0.4, figsize=(16,4), stacked=True)\n",
    "app_train.groupby('NAME_INCOME_TYPE')['AMT_INCOME_TOTAL'].mean().plot(kind='line', xlim=([-0.5,7.5]), ylim=([0,1400000]), color='blue' ,figsize=(16,4), label='mean of AMT_INCOME_TOTAL')\n",
    "plt.legend(title='ITEM')\n",
    "plt.show()"
   ]
  },
  {
   "cell_type": "code",
   "execution_count": null,
   "metadata": {},
   "outputs": [],
   "source": []
  }
 ],
 "metadata": {
  "kernelspec": {
   "display_name": "Python 3",
   "language": "python",
   "name": "python3"
  },
  "language_info": {
   "codemirror_mode": {
    "name": "ipython",
    "version": 3
   },
   "file_extension": ".py",
   "mimetype": "text/x-python",
   "name": "python",
   "nbconvert_exporter": "python",
   "pygments_lexer": "ipython3",
   "version": "3.7.3"
  }
 },
 "nbformat": 4,
 "nbformat_minor": 2
}
